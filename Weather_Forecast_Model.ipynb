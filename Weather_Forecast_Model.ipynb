{
  "cells": [
    {
      "cell_type": "markdown",
      "source": [
        "# Importing Libraries"
      ],
      "metadata": {
        "id": "xBu35eDykHxY"
      }
    },
    {
      "cell_type": "code",
      "execution_count": null,
      "metadata": {
        "id": "aCqP22AkAiJ_"
      },
      "outputs": [],
      "source": [
        "import pandas as pd\n",
        "from sklearn.preprocessing import LabelEncoder\n",
        "from sklearn.model_selection import train_test_split\n",
        "from sklearn.ensemble import RandomForestRegressor\n",
        "from sklearn.metrics import mean_squared_error\n",
        "import numpy as np"
      ]
    },
    {
      "cell_type": "markdown",
      "source": [
        "# Load the Dataset"
      ],
      "metadata": {
        "id": "JtgNFbLRkTEe"
      }
    },
    {
      "cell_type": "code",
      "source": [
        "data = pd.read_csv('historical_weather.csv')"
      ],
      "metadata": {
        "id": "pWVNe8PnkREu"
      },
      "execution_count": null,
      "outputs": []
    },
    {
      "cell_type": "markdown",
      "source": [
        "Display the first few rows of the dataset"
      ],
      "metadata": {
        "id": "fc8N5mBKkPOG"
      }
    },
    {
      "cell_type": "code",
      "execution_count": null,
      "metadata": {
        "colab": {
          "base_uri": "https://localhost:8080/"
        },
        "id": "lDMnfg-8A-DN",
        "outputId": "d06e02c4-5468-4f3a-b001-3d663a7a3a98"
      },
      "outputs": [
        {
          "output_type": "stream",
          "name": "stdout",
          "text": [
            "  city_id        date  avg_temp_c  min_temp_c  max_temp_c  precipitation_mm  \\\n",
            "0    C001  2014-01-01         6.6        -1.4        11.6               NaN   \n",
            "1    C001  2014-01-02         9.3         6.3        13.3               NaN   \n",
            "2    C001  2014-01-03         7.6         1.9        14.0               NaN   \n",
            "3    C001  2014-01-04         7.6         3.9        13.3               NaN   \n",
            "4    C001  2014-01-05         8.6         0.5        16.9               NaN   \n",
            "\n",
            "   snow_depth_mm  avg_wind_dir_deg  avg_wind_speed_kmh  \n",
            "0            NaN             168.0                 6.2  \n",
            "1            NaN             155.0                10.0  \n",
            "2            NaN               NaN                 5.8  \n",
            "3            NaN             291.0                11.3  \n",
            "4            NaN               NaN                 5.0  \n"
          ]
        }
      ],
      "source": [
        "print(data.head())"
      ]
    },
    {
      "cell_type": "markdown",
      "source": [
        "To see the size of dataset"
      ],
      "metadata": {
        "id": "c62jP5c-k-JU"
      }
    },
    {
      "cell_type": "code",
      "source": [
        "data.shape"
      ],
      "metadata": {
        "colab": {
          "base_uri": "https://localhost:8080/"
        },
        "id": "OAlhChZgOm6-",
        "outputId": "56a7e443-5073-4f85-aef0-bb6ea1de7391"
      },
      "execution_count": null,
      "outputs": [
        {
          "output_type": "execute_result",
          "data": {
            "text/plain": [
              "(182338, 9)"
            ]
          },
          "metadata": {},
          "execution_count": 14
        }
      ]
    },
    {
      "cell_type": "markdown",
      "source": [
        "# Handling Null values"
      ],
      "metadata": {
        "id": "4lFH1FCvlEDM"
      }
    },
    {
      "cell_type": "code",
      "source": [
        "# Check for missing values\n",
        "print(data.isnull().sum())"
      ],
      "metadata": {
        "colab": {
          "base_uri": "https://localhost:8080/"
        },
        "id": "MAg5TMsgR5x4",
        "outputId": "5c9a4643-ce1d-4b9f-865a-e7aad7f0f071"
      },
      "execution_count": null,
      "outputs": [
        {
          "output_type": "stream",
          "name": "stdout",
          "text": [
            "city_id                    0\n",
            "date                       0\n",
            "avg_temp_c              1224\n",
            "min_temp_c              5886\n",
            "max_temp_c              7493\n",
            "precipitation_mm       69744\n",
            "snow_depth_mm         170100\n",
            "avg_wind_dir_deg       35394\n",
            "avg_wind_speed_kmh     22472\n",
            "dtype: int64\n"
          ]
        }
      ]
    },
    {
      "cell_type": "markdown",
      "source": [
        "Fill missing values"
      ],
      "metadata": {
        "id": "oOIHuMselPOU"
      }
    },
    {
      "cell_type": "code",
      "execution_count": null,
      "metadata": {
        "id": "QURUYbtkA_MD"
      },
      "outputs": [],
      "source": [
        "# filling missing numerical values with the mean of the column\n",
        "data['avg_temp_c'].fillna(data['avg_temp_c'].mean(), inplace=True)\n",
        "data['min_temp_c'].fillna(data['min_temp_c'].mean(), inplace=True)\n",
        "data['max_temp_c'].fillna(data['max_temp_c'].mean(), inplace=True)\n",
        "data['precipitation_mm'].fillna(data['precipitation_mm'].mean(), inplace=True)\n",
        "data['snow_depth_mm'].fillna(data['snow_depth_mm'].mean(), inplace=True)\n",
        "data['avg_wind_dir_deg'].fillna(data['avg_wind_dir_deg'].mean(), inplace=True)\n",
        "data['avg_wind_speed_kmh'].fillna(data['avg_wind_speed_kmh'].mean(), inplace=True)"
      ]
    },
    {
      "cell_type": "markdown",
      "source": [
        "Checking the null values after filling"
      ],
      "metadata": {
        "id": "DuvqUKkRld9f"
      }
    },
    {
      "cell_type": "code",
      "execution_count": null,
      "metadata": {
        "colab": {
          "base_uri": "https://localhost:8080/"
        },
        "id": "99WJ_KCCBBFL",
        "outputId": "07c82335-6911-47f5-8685-cb0c079f0f48"
      },
      "outputs": [
        {
          "output_type": "stream",
          "name": "stdout",
          "text": [
            "city_id               0\n",
            "date                  0\n",
            "avg_temp_c            0\n",
            "min_temp_c            0\n",
            "max_temp_c            0\n",
            "precipitation_mm      0\n",
            "snow_depth_mm         0\n",
            "avg_wind_dir_deg      0\n",
            "avg_wind_speed_kmh    0\n",
            "dtype: int64\n"
          ]
        }
      ],
      "source": [
        "print(data.isnull().sum())"
      ]
    },
    {
      "cell_type": "markdown",
      "source": [
        "# Feature Engineering"
      ],
      "metadata": {
        "id": "8VZxKpFLl3b0"
      }
    },
    {
      "cell_type": "code",
      "execution_count": null,
      "metadata": {
        "id": "_X1nvPBYjrhF"
      },
      "outputs": [],
      "source": [
        "# Convert date column to datetime format\n",
        "data['date'] = pd.to_datetime(data['date'])"
      ]
    },
    {
      "cell_type": "code",
      "execution_count": null,
      "metadata": {
        "id": "uGEj-BOWBjjj"
      },
      "outputs": [],
      "source": [
        "# Extract year, month, and day as separate features\n",
        "data['year'] = data['date'].dt.year\n",
        "data['month'] = data['date'].dt.month\n",
        "data['day'] = data['date'].dt.day"
      ]
    },
    {
      "cell_type": "markdown",
      "source": [
        "# Encode Categorical Variables"
      ],
      "metadata": {
        "id": "KZlyisuyl8ok"
      }
    },
    {
      "cell_type": "code",
      "execution_count": null,
      "metadata": {
        "id": "aQfb4eDSj4so"
      },
      "outputs": [],
      "source": [
        "# Encode city_id as a numerical feature\n",
        "label_encoder = LabelEncoder()\n",
        "data['city_id'] = label_encoder.fit_transform(data['city_id'])"
      ]
    },
    {
      "cell_type": "markdown",
      "source": [
        "# Splitting date for Training and Testing"
      ],
      "metadata": {
        "id": "ho0ZYcWymRUw"
      }
    },
    {
      "cell_type": "code",
      "execution_count": null,
      "metadata": {
        "id": "66ibyn3bBosS"
      },
      "outputs": [],
      "source": [
        "# Features and target\n",
        "X = data.drop(columns=['date', 'avg_temp_c'])\n",
        "y = data['avg_temp_c']\n",
        "\n",
        "# Split the data into training and testing sets\n",
        "X_train, X_test, y_train, y_test = train_test_split(X, y, test_size=0.2, random_state=42)"
      ]
    },
    {
      "cell_type": "markdown",
      "source": [
        "# Train the Model"
      ],
      "metadata": {
        "id": "IjJQWy8FmdGv"
      }
    },
    {
      "cell_type": "code",
      "execution_count": null,
      "metadata": {
        "colab": {
          "base_uri": "https://localhost:8080/",
          "height": 74
        },
        "id": "QoAlxAH2Bp2b",
        "outputId": "3b6d7b46-26c9-4954-f6e4-50c210a0d053"
      },
      "outputs": [
        {
          "output_type": "execute_result",
          "data": {
            "text/plain": [
              "RandomForestRegressor(random_state=42)"
            ],
            "text/html": [
              "<style>#sk-container-id-1 {color: black;background-color: white;}#sk-container-id-1 pre{padding: 0;}#sk-container-id-1 div.sk-toggleable {background-color: white;}#sk-container-id-1 label.sk-toggleable__label {cursor: pointer;display: block;width: 100%;margin-bottom: 0;padding: 0.3em;box-sizing: border-box;text-align: center;}#sk-container-id-1 label.sk-toggleable__label-arrow:before {content: \"▸\";float: left;margin-right: 0.25em;color: #696969;}#sk-container-id-1 label.sk-toggleable__label-arrow:hover:before {color: black;}#sk-container-id-1 div.sk-estimator:hover label.sk-toggleable__label-arrow:before {color: black;}#sk-container-id-1 div.sk-toggleable__content {max-height: 0;max-width: 0;overflow: hidden;text-align: left;background-color: #f0f8ff;}#sk-container-id-1 div.sk-toggleable__content pre {margin: 0.2em;color: black;border-radius: 0.25em;background-color: #f0f8ff;}#sk-container-id-1 input.sk-toggleable__control:checked~div.sk-toggleable__content {max-height: 200px;max-width: 100%;overflow: auto;}#sk-container-id-1 input.sk-toggleable__control:checked~label.sk-toggleable__label-arrow:before {content: \"▾\";}#sk-container-id-1 div.sk-estimator input.sk-toggleable__control:checked~label.sk-toggleable__label {background-color: #d4ebff;}#sk-container-id-1 div.sk-label input.sk-toggleable__control:checked~label.sk-toggleable__label {background-color: #d4ebff;}#sk-container-id-1 input.sk-hidden--visually {border: 0;clip: rect(1px 1px 1px 1px);clip: rect(1px, 1px, 1px, 1px);height: 1px;margin: -1px;overflow: hidden;padding: 0;position: absolute;width: 1px;}#sk-container-id-1 div.sk-estimator {font-family: monospace;background-color: #f0f8ff;border: 1px dotted black;border-radius: 0.25em;box-sizing: border-box;margin-bottom: 0.5em;}#sk-container-id-1 div.sk-estimator:hover {background-color: #d4ebff;}#sk-container-id-1 div.sk-parallel-item::after {content: \"\";width: 100%;border-bottom: 1px solid gray;flex-grow: 1;}#sk-container-id-1 div.sk-label:hover label.sk-toggleable__label {background-color: #d4ebff;}#sk-container-id-1 div.sk-serial::before {content: \"\";position: absolute;border-left: 1px solid gray;box-sizing: border-box;top: 0;bottom: 0;left: 50%;z-index: 0;}#sk-container-id-1 div.sk-serial {display: flex;flex-direction: column;align-items: center;background-color: white;padding-right: 0.2em;padding-left: 0.2em;position: relative;}#sk-container-id-1 div.sk-item {position: relative;z-index: 1;}#sk-container-id-1 div.sk-parallel {display: flex;align-items: stretch;justify-content: center;background-color: white;position: relative;}#sk-container-id-1 div.sk-item::before, #sk-container-id-1 div.sk-parallel-item::before {content: \"\";position: absolute;border-left: 1px solid gray;box-sizing: border-box;top: 0;bottom: 0;left: 50%;z-index: -1;}#sk-container-id-1 div.sk-parallel-item {display: flex;flex-direction: column;z-index: 1;position: relative;background-color: white;}#sk-container-id-1 div.sk-parallel-item:first-child::after {align-self: flex-end;width: 50%;}#sk-container-id-1 div.sk-parallel-item:last-child::after {align-self: flex-start;width: 50%;}#sk-container-id-1 div.sk-parallel-item:only-child::after {width: 0;}#sk-container-id-1 div.sk-dashed-wrapped {border: 1px dashed gray;margin: 0 0.4em 0.5em 0.4em;box-sizing: border-box;padding-bottom: 0.4em;background-color: white;}#sk-container-id-1 div.sk-label label {font-family: monospace;font-weight: bold;display: inline-block;line-height: 1.2em;}#sk-container-id-1 div.sk-label-container {text-align: center;}#sk-container-id-1 div.sk-container {/* jupyter's `normalize.less` sets `[hidden] { display: none; }` but bootstrap.min.css set `[hidden] { display: none !important; }` so we also need the `!important` here to be able to override the default hidden behavior on the sphinx rendered scikit-learn.org. See: https://github.com/scikit-learn/scikit-learn/issues/21755 */display: inline-block !important;position: relative;}#sk-container-id-1 div.sk-text-repr-fallback {display: none;}</style><div id=\"sk-container-id-1\" class=\"sk-top-container\"><div class=\"sk-text-repr-fallback\"><pre>RandomForestRegressor(random_state=42)</pre><b>In a Jupyter environment, please rerun this cell to show the HTML representation or trust the notebook. <br />On GitHub, the HTML representation is unable to render, please try loading this page with nbviewer.org.</b></div><div class=\"sk-container\" hidden><div class=\"sk-item\"><div class=\"sk-estimator sk-toggleable\"><input class=\"sk-toggleable__control sk-hidden--visually\" id=\"sk-estimator-id-1\" type=\"checkbox\" checked><label for=\"sk-estimator-id-1\" class=\"sk-toggleable__label sk-toggleable__label-arrow\">RandomForestRegressor</label><div class=\"sk-toggleable__content\"><pre>RandomForestRegressor(random_state=42)</pre></div></div></div></div></div>"
            ]
          },
          "metadata": {},
          "execution_count": 22
        }
      ],
      "source": [
        "# Initialize the model\n",
        "model = RandomForestRegressor(n_estimators=100, random_state=42)\n",
        "\n",
        "# Train the model\n",
        "model.fit(X_train, y_train)"
      ]
    },
    {
      "cell_type": "markdown",
      "source": [
        "# Evaluate the Model"
      ],
      "metadata": {
        "id": "iHcDLrgSmoW9"
      }
    },
    {
      "cell_type": "code",
      "execution_count": null,
      "metadata": {
        "colab": {
          "base_uri": "https://localhost:8080/"
        },
        "id": "5sI1OPFVBs4s",
        "outputId": "3ddcccd1-7b66-48ff-82c2-5520338a8daf"
      },
      "outputs": [
        {
          "output_type": "stream",
          "name": "stdout",
          "text": [
            "RMSE: 1.037188595889998\n"
          ]
        }
      ],
      "source": [
        "# Predict on the test set\n",
        "y_pred = model.predict(X_test)\n",
        "\n",
        "# Calculate RMSE\n",
        "rmse = np.sqrt(mean_squared_error(y_test, y_pred))\n",
        "print(f'RMSE: {rmse}')"
      ]
    },
    {
      "cell_type": "markdown",
      "source": [
        "# Load Submission Key and Prepare Features"
      ],
      "metadata": {
        "id": "BK-hIshSnhXr"
      }
    },
    {
      "cell_type": "code",
      "source": [
        "# Load the submission key\n",
        "submission_key = pd.read_csv('submission_key.csv')\n",
        "\n",
        "# Encode 'city_id' in the submission key\n",
        "submission_key['city_id'] = label_encoder.transform(submission_key['city_id'])\n",
        "\n",
        "# Convert 'date' to datetime\n",
        "submission_key['date'] = pd.to_datetime(submission_key['date'])"
      ],
      "metadata": {
        "id": "UcotREyTb1EO"
      },
      "execution_count": null,
      "outputs": []
    },
    {
      "cell_type": "code",
      "source": [
        "# Ensure submission data has the same features as training data\n",
        "submission_data = submission_key.copy()\n",
        "\n",
        "# Extract year, month, and day as separate features\n",
        "submission_data['year'] = submission_data['date'].dt.year\n",
        "submission_data['month'] = submission_data['date'].dt.month\n",
        "submission_data['day'] = submission_data['date'].dt.day"
      ],
      "metadata": {
        "id": "NeaKf-SwfbzS"
      },
      "execution_count": null,
      "outputs": []
    },
    {
      "cell_type": "markdown",
      "source": [
        "# Ensure All Features are Present"
      ],
      "metadata": {
        "id": "DdPQujeSnllb"
      }
    },
    {
      "cell_type": "code",
      "source": [
        "# Ensure submission data has the same features as training data\n",
        "required_features = X_train.columns\n",
        "X_submission = submission_key.drop(columns=['submission_ID', 'date'])\n",
        "\n",
        "# Add any missing columns with default values\n",
        "for col in required_features:\n",
        "    if col not in X_submission.columns:\n",
        "        X_submission[col] = 0  # or a sensible default value\n",
        "\n",
        "# Reorder columns to match the training data\n",
        "X_submission = X_submission[required_features]\n"
      ],
      "metadata": {
        "id": "eNKMxBg5feTy"
      },
      "execution_count": null,
      "outputs": []
    },
    {
      "cell_type": "markdown",
      "source": [
        "# Make Predictions"
      ],
      "metadata": {
        "id": "LA7Ttg6-nn-z"
      }
    },
    {
      "cell_type": "code",
      "source": [
        "submission_predictions = model.predict(X_submission)"
      ],
      "metadata": {
        "id": "t8QMH5i3fgzT"
      },
      "execution_count": null,
      "outputs": []
    },
    {
      "cell_type": "markdown",
      "source": [
        "# Prepare and Save the Submission File"
      ],
      "metadata": {
        "id": "510hWJ3snuB9"
      }
    },
    {
      "cell_type": "code",
      "source": [
        "# Prepare the submission dataframe\n",
        "submission = submission_key[['submission_ID']].copy()\n",
        "submission['avg_temp_c'] = submission_predictions\n",
        "\n",
        "# Save to CSV\n",
        "submission.to_csv('Submission_P239.csv', index=False)\n",
        "\n",
        "print(\"Submission file created successfully!\")"
      ],
      "metadata": {
        "colab": {
          "base_uri": "https://localhost:8080/"
        },
        "id": "nyFf3ibrgCYZ",
        "outputId": "a03c566f-6f9a-4ecf-c3e6-4c99319339cd"
      },
      "execution_count": null,
      "outputs": [
        {
          "output_type": "stream",
          "name": "stdout",
          "text": [
            "Submission file created successfully!\n"
          ]
        }
      ]
    }
  ],
  "metadata": {
    "colab": {
      "provenance": []
    },
    "kernelspec": {
      "display_name": "Python 3",
      "name": "python3"
    },
    "language_info": {
      "name": "python"
    }
  },
  "nbformat": 4,
  "nbformat_minor": 0
}